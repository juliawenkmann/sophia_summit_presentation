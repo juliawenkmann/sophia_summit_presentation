{
 "cells": [
  {
   "cell_type": "markdown",
   "id": "b55c28f5",
   "metadata": {},
   "source": [
    "# Slide 10 - Concept Algebra\n",
    "\n",
    "**Pairs shown:** `queen − king`, `woman − man`, `aunt − uncle`  \n",
    "\n",
    "### How to run\n",
    "1. (Optional) Install dependencies if needed — see the commented `pip install` cell.\n",
    "2. Run the **Imports & Config** cell.\n",
    "3. Run the **Load CLIP and Word2Vec** cell.\n",
    "4. Run the **Run once** cell to see results for the final layer.\n",
    "5. Use the **Layer selector (widget)** to change the CLIP transformer layer interactively."
   ]
  },
  {
   "cell_type": "code",
   "execution_count": 1,
   "id": "8980de88",
   "metadata": {},
   "outputs": [],
   "source": [
    "# If you need packages, uncomment and run:\n",
    "!pip -q install clip-anytorch gensim scikit-learn ipywidgets ftfy regex tqdm\n",
    "\n",
    "# If you prefer OpenCLIP instead of OpenAI CLIP, uncomment:\n",
    "# !pip -q install open-clip-torch"
   ]
  },
  {
   "cell_type": "code",
   "execution_count": 2,
   "id": "091544bf",
   "metadata": {},
   "outputs": [],
   "source": [
    "from __future__ import annotations\n",
    "\n",
    "import os\n",
    "from dataclasses import dataclass\n",
    "from typing import Dict, List, Optional, Tuple\n",
    "\n",
    "import numpy as np\n",
    "import torch\n",
    "import matplotlib.pyplot as plt\n",
    "import pandas as pd\n",
    "from sklearn.decomposition import PCA\n",
    "\n",
    "# --- CLIP (openai/clip packaged as 'clip-anytorch') ---\n",
    "import clip  # pip: clip-anytorch\n",
    "\n",
    "# --- Word2Vec (optional) ---\n",
    "try:\n",
    "    import gensim.downloader as api\n",
    "    from gensim.models import KeyedVectors\n",
    "except Exception:  # running without gensim installed\n",
    "    api = None\n",
    "    KeyedVectors = None\n",
    "\n",
    "# --- Widgets (optional) ---\n",
    "try:\n",
    "    import ipywidgets as widgets\n",
    "    from IPython.display import display, clear_output\n",
    "except Exception:\n",
    "    widgets = None\n",
    "    display = None\n",
    "    clear_output = None\n",
    "\n",
    "# ---------------------------\n",
    "# Configuration\n",
    "# ---------------------------\n",
    "PAIR_STRINGS: List[Tuple[str, str]] = [\n",
    "    (\"queen\", \"king\"),\n",
    "    (\"woman\", \"man\"),\n",
    "    (\"aunt\", \"uncle\"),\n",
    "]\n",
    "\n",
    "# Encode the raw word by default; you can change this to e.g. \"a photo of a {}\"\n",
    "PROMPT_TEMPLATE: str = \"{}\"\n",
    "\n",
    "CLIP_MODEL_NAME: str = \"ViT-B/32\"\n",
    "DEVICE: str = \"cuda\" if torch.cuda.is_available() else \"cpu\"\n",
    "\n",
    "# Word2Vec options\n",
    "WORD2VEC_KEY: str = \"word2vec-google-news-300\"  # requires internet to auto-download\n",
    "WORD2VEC_LOCAL_PATH: Optional[str] = None       # or set to a local .bin file path\n",
    "\n",
    "# Derived\n",
    "WORDS: List[str] = sorted({w for pair in PAIR_STRINGS for w in pair})"
   ]
  },
  {
   "cell_type": "code",
   "execution_count": 3,
   "id": "4c01277f",
   "metadata": {},
   "outputs": [],
   "source": [
    "@dataclass\n",
    "class EmbeddingResult:\n",
    "    vectors: Dict[str, np.ndarray]           # word -> vector\n",
    "    diffs: Dict[str, np.ndarray]             # \"a-b\" -> difference vector\n",
    "\n",
    "def cosine_sim(a: np.ndarray, b: np.ndarray) -> float:\n",
    "    \"\"\"Cosine similarity between 1D vectors.\"\"\"\n",
    "    return float(np.dot(a, b) / (np.linalg.norm(a) * np.linalg.norm(b)))\n",
    "\n",
    "def pair_similarity_matrix(diffs: Dict[str, np.ndarray]) -> pd.DataFrame:\n",
    "    \"\"\"Cosine similarity matrix across difference vectors.\"\"\"\n",
    "    keys = list(diffs.keys())\n",
    "    M = np.zeros((len(keys), len(keys)), dtype=np.float32)\n",
    "    for i, ki in enumerate(keys):\n",
    "        for j, kj in enumerate(keys):\n",
    "            M[i, j] = cosine_sim(diffs[ki], diffs[kj])\n",
    "    return pd.DataFrame(M, index=keys, columns=keys)\n",
    "\n",
    "# ---------------------------\n",
    "# CLIP utilities\n",
    "# ---------------------------\n",
    "def load_clip_model(name: str, device: str):\n",
    "    \"\"\"Load CLIP model by name; returns the model in eval mode.\"\"\"\n",
    "    model, _ = clip.load(name, device=device, jit=False)\n",
    "    model.eval()\n",
    "    return model\n",
    "\n",
    "def encode_clip_text(model, texts: List[str], layer_idx: Optional[int] = None, device: str = \"cpu\") -> np.ndarray:\n",
    "    \"\"\"\n",
    "    Encode a list of texts using CLIP's text transformer.\n",
    "    If layer_idx is None, returns the final-layer embeddings.\n",
    "    Otherwise, stops after the specified residual block (0-indexed) and applies the final projection.\n",
    "    \"\"\"\n",
    "    tokens = clip.tokenize(texts, context_length=model.context_length).to(device)\n",
    "\n",
    "    with torch.no_grad():\n",
    "        x = model.token_embedding(tokens).type(model.dtype)  # [batch, n_ctx, width]\n",
    "        x = x + model.positional_embedding.type(model.dtype)\n",
    "        x = x.permute(1, 0, 2)  # NLD -> LND\n",
    "\n",
    "        attn_mask = getattr(model, \"attn_mask\", None)\n",
    "        if layer_idx is None:\n",
    "            # Full forward through all blocks\n",
    "            if attn_mask is None:\n",
    "                x = model.transformer(x)\n",
    "            else:\n",
    "                x = model.transformer(x, attn_mask=attn_mask)\n",
    "        else:\n",
    "            # Forward exactly up to the requested block\n",
    "            for i, block in enumerate(model.transformer.resblocks):\n",
    "                if attn_mask is None:\n",
    "                    x = block(x)\n",
    "                else:\n",
    "                    x = block(x, attn_mask=attn_mask)\n",
    "                if i == layer_idx:\n",
    "                    break\n",
    "\n",
    "        x = x.permute(1, 0, 2)  # LND -> NLD\n",
    "        x = model.ln_final(x).type(model.dtype)\n",
    "        # Take features at the [EOS] token (largest token index)\n",
    "        x = x[torch.arange(x.shape[0]), tokens.argmax(dim=-1)] @ model.text_projection\n",
    "\n",
    "        # Normalize for cosine geometry\n",
    "        x = x.float()\n",
    "        x = x / x.norm(dim=-1, keepdim=True)\n",
    "\n",
    "    return x.cpu().numpy()\n",
    "\n",
    "def collect_clip_embeddings(words: List[str], model, layer_idx: Optional[int]) -> EmbeddingResult:\n",
    "    texts = [PROMPT_TEMPLATE.format(w) for w in words]\n",
    "    vecs = encode_clip_text(model, texts, layer_idx=layer_idx, device=DEVICE)\n",
    "    mapping = {w: vecs[i] for i, w in enumerate(words)}\n",
    "    diffs = {f\"{a}-{b}\": mapping[a] - mapping[b] for a, b in PAIR_STRINGS}\n",
    "    return EmbeddingResult(mapping, diffs)\n",
    "\n",
    "# ---------------------------\n",
    "# Word2Vec utilities (optional)\n",
    "# ---------------------------\n",
    "def load_word2vec(local_path: Optional[str], key: str):\n",
    "    \"\"\"Load Word2Vec either from a local .bin file or via gensim downloader.\"\"\"\n",
    "    if local_path and os.path.exists(local_path):\n",
    "        if KeyedVectors is None:\n",
    "            raise RuntimeError(\"gensim is not available but a local path was provided.\")\n",
    "        return KeyedVectors.load_word2vec_format(local_path, binary=True)\n",
    "    if api is None:\n",
    "        raise RuntimeError(\"gensim downloader is not available and no local path is set.\")\n",
    "    return api.load(key)  # requires internet the first time\n",
    "\n",
    "def collect_w2v_embeddings(words: List[str], kv) -> EmbeddingResult:\n",
    "    mapping: Dict[str, np.ndarray] = {}\n",
    "    for w in words:\n",
    "        try:\n",
    "            mapping[w] = kv[w]\n",
    "        except KeyError:\n",
    "            # silently skip OOV words in this minimal notebook\n",
    "            pass\n",
    "    diffs = {f\"{a}-{b}\": mapping[a] - mapping[b] for a, b in PAIR_STRINGS if a in mapping and b in mapping}\n",
    "    return EmbeddingResult(mapping, diffs)\n",
    "\n",
    "# ---------------------------\n",
    "# Plotting (single panel)\n",
    "# ---------------------------\n",
    "def plot_pca(words: List[str], emb: EmbeddingResult, head_width: int = 0.01, title: str = \"\") -> None:\n",
    "    \"\"\"2D PCA plot of embeddings with arrows for a-b differences. Single plot only.\"\"\"\n",
    "    # Prepare matrix in word order\n",
    "    X = np.stack([emb.vectors[w] for w in words], axis=0)\n",
    "    pca = PCA(n_components=2, random_state=0)\n",
    "    X2 = pca.fit_transform(X)\n",
    "    coords = {w: X2[i] for i, w in enumerate(words)}\n",
    "\n",
    "    plt.figure(figsize=(6, 6))\n",
    "    for w in words:\n",
    "        plt.scatter(coords[w][0], coords[w][1])\n",
    "        plt.text(coords[w][0], coords[w][1], w)\n",
    "\n",
    "    # Draw arrows from b -> a for (a - b)\n",
    "    for a, b in PAIR_STRINGS:\n",
    "        tail = coords[b]\n",
    "        head = coords[a]\n",
    "        plt.arrow(tail[0], tail[1], head[0] - tail[0], head[1] - tail[1],\n",
    "                  length_includes_head=True, head_width=head_width)\n",
    "\n",
    "    plt.title(title or \"PCA projection\")\n",
    "    plt.xlabel(\"PC 1\")\n",
    "    plt.ylabel(\"PC 2\")\n",
    "    plt.axis(\"equal\")\n",
    "    plt.show()"
   ]
  },
  {
   "cell_type": "code",
   "execution_count": 4,
   "id": "3d140079",
   "metadata": {},
   "outputs": [
    {
     "name": "stdout",
     "output_type": "stream",
     "text": [
      "Loaded CLIP: ViT-B/32 | Transformer layers: 12 | Device: cpu\n",
      "Loaded Word2Vec.\n"
     ]
    }
   ],
   "source": [
    "clip_model = load_clip_model(CLIP_MODEL_NAME, DEVICE)\n",
    "NUM_LAYERS = len(list(clip_model.transformer.resblocks))\n",
    "print(f\"Loaded CLIP: {CLIP_MODEL_NAME} | Transformer layers: {NUM_LAYERS} | Device: {DEVICE}\")\n",
    "kv = load_word2vec(WORD2VEC_LOCAL_PATH, WORD2VEC_KEY)\n",
    "print(f\"Loaded Word2Vec.\")"
   ]
  },
  {
   "cell_type": "code",
   "execution_count": 5,
   "id": "12c5b78c",
   "metadata": {},
   "outputs": [
    {
     "data": {
      "image/png": "[encoded data removed]",
      "text/plain": [
       "<Figure size 600x600 with 1 Axes>"
      ]
     },
     "metadata": {},
     "output_type": "display_data"
    },
    {
     "data": {
      "text/html": [
       "<style type=\"text/css\">\n",
       "</style>\n",
       "<table id=\"T_4aebb\">\n",
       "  <caption>CLIP PCA — layer final | diff-vector cosine(sim)</caption>\n",
       "  <thead>\n",
       "    <tr>\n",
       "      <th class=\"blank level0\" >&nbsp;</th>\n",
       "      <th id=\"T_4aebb_level0_col0\" class=\"col_heading level0 col0\" >queen-king</th>\n",
       "      <th id=\"T_4aebb_level0_col1\" class=\"col_heading level0 col1\" >woman-man</th>\n",
       "      <th id=\"T_4aebb_level0_col2\" class=\"col_heading level0 col2\" >aunt-uncle</th>\n",
       "    </tr>\n",
       "  </thead>\n",
       "  <tbody>\n",
       "    <tr>\n",
       "      <th id=\"T_4aebb_level0_row0\" class=\"row_heading level0 row0\" >queen-king</th>\n",
       "      <td id=\"T_4aebb_row0_col0\" class=\"data row0 col0\" >1.000</td>\n",
       "      <td id=\"T_4aebb_row0_col1\" class=\"data row0 col1\" >0.326</td>\n",
       "      <td id=\"T_4aebb_row0_col2\" class=\"data row0 col2\" >0.452</td>\n",
       "    </tr>\n",
       "    <tr>\n",
       "      <th id=\"T_4aebb_level0_row1\" class=\"row_heading level0 row1\" >woman-man</th>\n",
       "      <td id=\"T_4aebb_row1_col0\" class=\"data row1 col0\" >0.326</td>\n",
       "      <td id=\"T_4aebb_row1_col1\" class=\"data row1 col1\" >1.000</td>\n",
       "      <td id=\"T_4aebb_row1_col2\" class=\"data row1 col2\" >0.253</td>\n",
       "    </tr>\n",
       "    <tr>\n",
       "      <th id=\"T_4aebb_level0_row2\" class=\"row_heading level0 row2\" >aunt-uncle</th>\n",
       "      <td id=\"T_4aebb_row2_col0\" class=\"data row2 col0\" >0.452</td>\n",
       "      <td id=\"T_4aebb_row2_col1\" class=\"data row2 col1\" >0.253</td>\n",
       "      <td id=\"T_4aebb_row2_col2\" class=\"data row2 col2\" >1.000</td>\n",
       "    </tr>\n",
       "  </tbody>\n",
       "</table>\n"
      ],
      "text/plain": [
       "<pandas.io.formats.style.Styler at 0x11402e3d0>"
      ]
     },
     "metadata": {},
     "output_type": "display_data"
    },
    {
     "data": {
      "image/png": "[encoded data removed]",
      "text/plain": [
       "<Figure size 600x600 with 1 Axes>"
      ]
     },
     "metadata": {},
     "output_type": "display_data"
    },
    {
     "data": {
      "text/html": [
       "<style type=\"text/css\">\n",
       "</style>\n",
       "<table id=\"T_4a925\">\n",
       "  <caption>Word2Vec | diff-vector cosine(sim)</caption>\n",
       "  <thead>\n",
       "    <tr>\n",
       "      <th class=\"blank level0\" >&nbsp;</th>\n",
       "      <th id=\"T_4a925_level0_col0\" class=\"col_heading level0 col0\" >queen-king</th>\n",
       "      <th id=\"T_4a925_level0_col1\" class=\"col_heading level0 col1\" >woman-man</th>\n",
       "      <th id=\"T_4a925_level0_col2\" class=\"col_heading level0 col2\" >aunt-uncle</th>\n",
       "    </tr>\n",
       "  </thead>\n",
       "  <tbody>\n",
       "    <tr>\n",
       "      <th id=\"T_4a925_level0_row0\" class=\"row_heading level0 row0\" >queen-king</th>\n",
       "      <td id=\"T_4a925_row0_col0\" class=\"data row0 col0\" >1.000</td>\n",
       "      <td id=\"T_4a925_row0_col1\" class=\"data row0 col1\" >0.449</td>\n",
       "      <td id=\"T_4a925_row0_col2\" class=\"data row0 col2\" >0.387</td>\n",
       "    </tr>\n",
       "    <tr>\n",
       "      <th id=\"T_4a925_level0_row1\" class=\"row_heading level0 row1\" >woman-man</th>\n",
       "      <td id=\"T_4a925_row1_col0\" class=\"data row1 col0\" >0.449</td>\n",
       "      <td id=\"T_4a925_row1_col1\" class=\"data row1 col1\" >1.000</td>\n",
       "      <td id=\"T_4a925_row1_col2\" class=\"data row1 col2\" >0.529</td>\n",
       "    </tr>\n",
       "    <tr>\n",
       "      <th id=\"T_4a925_level0_row2\" class=\"row_heading level0 row2\" >aunt-uncle</th>\n",
       "      <td id=\"T_4a925_row2_col0\" class=\"data row2 col0\" >0.387</td>\n",
       "      <td id=\"T_4a925_row2_col1\" class=\"data row2 col1\" >0.529</td>\n",
       "      <td id=\"T_4a925_row2_col2\" class=\"data row2 col2\" >1.000</td>\n",
       "    </tr>\n",
       "  </tbody>\n",
       "</table>\n"
      ],
      "text/plain": [
       "<pandas.io.formats.style.Styler at 0x487d2f510>"
      ]
     },
     "metadata": {},
     "output_type": "display_data"
    }
   ],
   "source": [
    "def run(layer_index: Optional[int] = None) -> None:\n",
    "    \"\"\"Execute the minimal pipeline for a given CLIP layer.\"\"\"\n",
    "    # CLIP\n",
    "    clip_emb = collect_clip_embeddings(WORDS, clip_model, layer_idx=layer_index)\n",
    "    title = f\"CLIP PCA — layer {'final' if layer_index is None else layer_index}\"\n",
    "    plot_pca(WORDS, clip_emb, title=title)\n",
    "    display(pair_similarity_matrix(clip_emb.diffs).style.format(\"{:.3f}\").set_caption(title + \" | diff-vector cosine(sim)\"))\n",
    "\n",
    "    # Word2Vec\n",
    "    w2v_emb = collect_w2v_embeddings(WORDS, kv)\n",
    "    title = f\"Word2Vec PCA — layer {'final' if layer_index is None else layer_index}\"\n",
    "    plot_pca(WORDS, w2v_emb, title=title, head_width=0.05)\n",
    "    display(pair_similarity_matrix(w2v_emb.diffs).style.format(\"{:.3f}\").set_caption(\"Word2Vec | diff-vector cosine(sim)\"))\n",
    "\n",
    "# Run once with final layer\n",
    "run(layer_index=None)"
   ]
  },
  {
   "cell_type": "code",
   "execution_count": 6,
   "id": "ea7df0d8",
   "metadata": {},
   "outputs": [
    {
     "name": "stdout",
     "output_type": "stream",
     "text": [
      "Use the dropdown to select a CLIP layer (0-based), or 'final'.\n"
     ]
    },
    {
     "data": {
      "application/vnd.jupyter.widget-view+json": {
       "model_id": "0bed3acf11604c73aaea9677b7237e82",
       "version_major": 2,
       "version_minor": 0
      },
      "text/plain": [
       "Dropdown(description='Layer:', index=12, options=('0', '1', '2', '3', '4', '5', '6', '7', '8', '9', '10', '11'…"
      ]
     },
     "metadata": {},
     "output_type": "display_data"
    },
    {
     "data": {
      "application/vnd.jupyter.widget-view+json": {
       "model_id": "e47e9153cadb45cd92e69d0dc23be35f",
       "version_major": 2,
       "version_minor": 0
      },
      "text/plain": [
       "Output()"
      ]
     },
     "metadata": {},
     "output_type": "display_data"
    }
   ],
   "source": [
    "if widgets is not None and display is not None:\n",
    "    print(\"Use the dropdown to select a CLIP layer (0-based), or 'final'.\")        \n",
    "    options = [str(i) for i in range(NUM_LAYERS)] + [\"final\"]\n",
    "    layer_dropdown = widgets.Dropdown(options=options, value=\"final\", description=\"Layer:\")\n",
    "\n",
    "    out = widgets.Output()\n",
    "\n",
    "    def _on_change(change):\n",
    "        if change.get(\"name\") == \"value\" and change.get(\"new\") is not None:\n",
    "            with out:\n",
    "                clear_output(wait=True)\n",
    "                layer_idx = None if layer_dropdown.value == \"final\" else int(layer_dropdown.value)\n",
    "                run(layer_index=layer_idx, use_w2v=USE_WORD2VEC)\n",
    "\n",
    "    layer_dropdown.observe(_on_change)\n",
    "    display(layer_dropdown)\n",
    "    display(out)\n",
    "else:\n",
    "    print(\"ipywidgets not available. To change layer, call: run(layer_index=<int or None>)\")"
   ]
  }
 ],
 "metadata": {
  "kernelspec": {
   "display_name": "ml",
   "language": "python",
   "name": "python3"
  },
  "language_info": {
   "codemirror_mode": {
    "name": "ipython",
    "version": 3
   },
   "file_extension": ".py",
   "mimetype": "text/x-python",
   "name": "python",
   "nbconvert_exporter": "python",
   "pygments_lexer": "ipython3",
   "version": "3.11.11"
  }
 },
 "nbformat": 4,
 "nbformat_minor": 5
}
