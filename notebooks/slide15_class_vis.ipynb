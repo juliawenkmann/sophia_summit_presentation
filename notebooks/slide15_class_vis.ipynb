{
 "cells": [
  {
   "cell_type": "markdown",
   "metadata": {},
   "source": [
    "# Slide 15 — Class visualization (maximize a logit)\n",
    "\n",
    "Gradient‑ascent on the **input** to maximize a chosen **class logit** (ImageNet).\n"
   ]
  },
  {
   "cell_type": "code",
   "execution_count": 4,
   "id": "24c563c1",
   "metadata": {},
   "outputs": [],
   "source": [
    "import sys\n",
    "ROOT = \"/Users/juliawenkmann/Documents/CodingProjects/damien/sophia_summit/sophia_summit_presentation/src/lucent\"\n",
    "if ROOT not in sys.path:\n",
    "    sys.path.insert(0, ROOT)\n",
    "\n",
    "from lucent.modelzoo import inceptionv1\n",
    "from lucent.optvis import render, objectives\n",
    "import torchvision"
   ]
  },
  {
   "cell_type": "markdown",
   "id": "dac2c2f8",
   "metadata": {},
   "source": [
    "### Helper to find class logit by name"
   ]
  },
  {
   "cell_type": "code",
   "execution_count": 5,
   "id": "85da4b7b",
   "metadata": {},
   "outputs": [
    {
     "name": "stdout",
     "output_type": "stream",
     "text": [
      "207\n"
     ]
    }
   ],
   "source": [
    "def imagenet_index(query: str) -> int:\n",
    "    import difflib\n",
    "    categories = None\n",
    "    # Try a few torchvision weights that include the 'categories' list\n",
    "    try:\n",
    "        from torchvision.models import ResNet50_Weights\n",
    "        categories = ResNet50_Weights.IMAGENET1K_V2.meta[\"categories\"]\n",
    "    except Exception:\n",
    "        try:\n",
    "            from torchvision.models import GoogLeNet_Weights\n",
    "            categories = GoogLeNet_Weights.IMAGENET1K_V1.meta[\"categories\"]\n",
    "        except Exception:\n",
    "            pass\n",
    "    if categories is None:\n",
    "        raise RuntimeError(\"Could not load ImageNet category names from torchvision. Please pass a numeric class ID.\")\n",
    "    hits = [i for i, name in enumerate(categories) if query.lower() in name.lower()]\n",
    "    if hits:\n",
    "        return hits[0]\n",
    "    # fallback to closest name\n",
    "    best = difflib.get_close_matches(query, categories, n=1)\n",
    "    if not best:\n",
    "        raise ValueError(f\"No class matching '{query}'.\")\n",
    "    return categories.index(best[0])\n",
    "\n",
    "# Example:\n",
    "class_id = imagenet_index(\"golden retriever\")\n",
    "obj = objectives.channel(\"labels\", class_id)\n",
    "print(class_id)"
   ]
  },
  {
   "cell_type": "markdown",
   "id": "11ae7b35",
   "metadata": {},
   "source": [
    "### Create Snapshots while optimizing for class logit - without bias"
   ]
  },
  {
   "cell_type": "code",
   "execution_count": null,
   "metadata": {},
   "outputs": [
    {
     "name": "stderr",
     "output_type": "stream",
     "text": [
      "100%|██████████| 2048/2048 [1:11:40<00:00,  2.10s/it]\n"
     ]
    },
    {
     "name": "stdout",
     "output_type": "stream",
     "text": [
      "Saved: /Users/juliawenkmann/Documents/CodingProjects/damien/sophia_summit/sophia_summit_presentation/figures/class_207_progress.pdf\n"
     ]
    }
   ],
   "source": [
    "\n",
    "# 1) Model\n",
    "model = inceptionv1.inceptionv1(pretrained=True).eval()\n",
    "\n",
    "# 2) Pick a class (integer ID in [0..999], e.g., 207 ≈ \"golden retriever\" in ImageNet)\n",
    "class_id = 207  # <-- change me or use the helper above to search by name\n",
    "\n",
    "# 3) Objective: maximize that class logit\n",
    "obj = objectives.channel(\"labels\", class_id)\n",
    "\n",
    "# 4) Render with snapshots and export PDF\n",
    "pdf_out = \"/Users/juliawenkmann/Documents/CodingProjects/damien/sophia_summit/sophia_summit_presentation/figures/class_207_progress.pdf\"\n",
    "\n",
    "imgs = render.render_feature_with_snapshots(\n",
    "    model,\n",
    "    obj,\n",
    "    snapshot_steps=[0, 4, 48, 2048],\n",
    "    img_size=224,\n",
    "    device=\"auto\",   \n",
    "    pdf_path=pdf_out,\n",
    "    left_text=f\"Optimize an input to increase the logit for class {class_id}.\",\n",
    ")\n",
    "print(\"Saved:\", pdf_out)"
   ]
  },
  {
   "cell_type": "markdown",
   "id": "7883bbd9",
   "metadata": {},
   "source": [
    "### Create Snapshots while optimizing for class logit - with bias"
   ]
  },
  {
   "cell_type": "code",
   "execution_count": null,
   "id": "a0635991",
   "metadata": {},
   "outputs": [],
   "source": [
    "pdf_out = \"/Users/juliawenkmann/Documents/CodingProjects/damien/sophia_summit/sophia_summit_presentation/figures/class_207_progress_random_noise.pdf\"\n",
    "\n",
    "imgs = render.render_feature_with_snapshots(\n",
    "    model,\n",
    "    obj,\n",
    "    snapshot_steps=[0, 4, 48, 2048],\n",
    "    img_size=224,\n",
    "    device=\"auto\",   \n",
    "    pdf_path=pdf_out,\n",
    "    left_text=f\"Optimize an input to increase the logit for class {class_id}.\",\n",
    ")\n",
    "print(\"Saved:\", pdf_out)"
   ]
  }
 ],
 "metadata": {
  "kernelspec": {
   "display_name": "ml",
   "language": "python",
   "name": "python3"
  },
  "language_info": {
   "codemirror_mode": {
    "name": "ipython",
    "version": 3
   },
   "file_extension": ".py",
   "mimetype": "text/x-python",
   "name": "python",
   "nbconvert_exporter": "python",
   "pygments_lexer": "ipython3",
   "version": "3.11.11"
  }
 },
 "nbformat": 4,
 "nbformat_minor": 5
}
