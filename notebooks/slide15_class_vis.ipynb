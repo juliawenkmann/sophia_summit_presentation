{
 "cells": [
  {
   "cell_type": "markdown",
   "metadata": {},
   "source": [
    "# Slide 15 — Class visualization (maximize a logit)\n",
    "\n",
    "Gradient‑ascent on the **input** to maximize a chosen **class logit** (ImageNet).\n"
   ]
  },
  {
   "cell_type": "code",
   "execution_count": null,
   "metadata": {},
   "outputs": [
    {
     "name": "stderr",
     "output_type": "stream",
     "text": [
      "  2%|▏         | 47/2048 [01:02<38:37,  1.16s/it]  "
     ]
    }
   ],
   "source": [
    "import sys\n",
    "ROOT = \"/Users/juliawenkmann/Documents/CodingProjects/damien/sophia_summit/sophia_summit_presentation/src/lucent\"\n",
    "if ROOT not in sys.path:\n",
    "    sys.path.insert(0, ROOT)\n",
    "\n",
    "from lucent.modelzoo import inceptionv1\n",
    "from lucent.optvis import render, objectives\n",
    "\n",
    "# 1) Model\n",
    "model = inceptionv1.inceptionv1(pretrained=True).eval()\n",
    "\n",
    "# 2) Pick a class (integer ID in [0..999], e.g., 207 ≈ \"golden retriever\" in ImageNet)\n",
    "class_id = 207  # <-- change me or use the helper below to search by name\n",
    "\n",
    "# 3) Objective: maximize that class logit\n",
    "obj = objectives.channel(\"labels\", class_id)\n",
    "\n",
    "# 4) Render with snapshots and export PDF\n",
    "pdf_out = \"/Users/juliawenkmann/Documents/CodingProjects/damien/sophia_summit/sophia_summit_presentation/figures/class_207_progress.pdf\"\n",
    "\n",
    "imgs = render.render_feature_with_snapshots(\n",
    "    model,\n",
    "    obj,\n",
    "    snapshot_steps=[0, 4, 48, 2048],\n",
    "    img_size=224,\n",
    "    device=\"auto\",   # CUDA → CPU (we skip MPS by default to avoid unsupported ops)\n",
    "    pdf_path=pdf_out,\n",
    "    left_text=f\"Optimize an input to increase the logit for class {class_id}.\",\n",
    ")\n",
    "print(\"Saved:\", pdf_out)"
   ]
  }
 ],
 "metadata": {
  "kernelspec": {
   "display_name": "ml",
   "language": "python",
   "name": "python3"
  },
  "language_info": {
   "codemirror_mode": {
    "name": "ipython",
    "version": 3
   },
   "file_extension": ".py",
   "mimetype": "text/x-python",
   "name": "python",
   "nbconvert_exporter": "python",
   "pygments_lexer": "ipython3",
   "version": "3.11.11"
  }
 },
 "nbformat": 4,
 "nbformat_minor": 5
}
